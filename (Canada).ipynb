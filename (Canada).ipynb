{
  "nbformat": 4,
  "nbformat_minor": 0,
  "metadata": {
    "colab": {
      "provenance": [],
      "include_colab_link": true
    },
    "kernelspec": {
      "name": "python3",
      "display_name": "Python 3"
    },
    "language_info": {
      "name": "python"
    }
  },
  "cells": [
    {
      "cell_type": "markdown",
      "metadata": {
        "id": "view-in-github",
        "colab_type": "text"
      },
      "source": [
        "<a href=\"https://colab.research.google.com/github/fariha65/Data_Scraping/blob/main/(Canada).ipynb\" target=\"_parent\"><img src=\"https://colab.research.google.com/assets/colab-badge.svg\" alt=\"Open In Colab\"/></a>"
      ]
    },
    {
      "cell_type": "markdown",
      "source": [
        "University of Lethbridge(Canada)"
      ],
      "metadata": {
        "id": "Vsicie9p3qHc"
      }
    },
    {
      "cell_type": "code",
      "execution_count": null,
      "metadata": {
        "colab": {
          "base_uri": "https://localhost:8080/"
        },
        "id": "UD4LY89rBKqk",
        "outputId": "24aef9cf-0909-4410-b8f9-b471b4bbe86b"
      },
      "outputs": [
        {
          "output_type": "stream",
          "name": "stdout",
          "text": [
            "#main-content\n",
            "/\n",
            "/lib\n",
            "http://directory.uleth.ca\n",
            "https://uleth.sharepoint.com/sites/Intranet\n",
            "https://myexperience.ulethbridge.ca\n",
            "/webmail\n",
            "https://bridge.uleth.ca/\n",
            "https://moodle.uleth.ca/\n",
            "/admissions\n",
            "/giving\n",
            "/admissions\n",
            "/admissions#english-for-academic-purposes\n",
            "/admissions#programs\n",
            "/admissions#tuition-funding\n",
            "/academics\n",
            "https://www.ulethbridge.ca/ross/academic-calendar\n",
            "/academics/faculties-and-schools\n",
            "https://directory.uleth.ca/\n",
            "https://www.ulethbridge.ca/lib\n",
            "/admissions#programs\n",
            "/ross\n",
            "/research\n",
            "/campus-life\n",
            "/campus-life/athletics\n",
            "/campus-life/campus-maps\n",
            "https://www.ulethbridge.ca/notice/upcoming-events\n",
            "/campus-life/fitness-and-recreation\n",
            "https://www.ulethbridge.ca/housing\n",
            "/campus-life/parking-and-transportation\n",
            "/campus-life/student-guide-ulife\n",
            "/campus-life/student-opportunities\n",
            "/campus-life/student-services\n",
            "/community\n",
            "/alumni\n",
            "https://www.ulethbridge.ca/giving\n",
            "/community/public-programs-and-events\n",
            "https://www.ulethbridge.ca/calgary\n",
            "/about\n",
            "/about/about-lethbridge\n",
            "/about/administrative-departments\n",
            "/about/contact\n",
            "/about/facts\n",
            "/about/history\n",
            "/about/leadership\n",
            "/about/our-campuses\n",
            "https://www.ulethbridge.ca/planning-and-reporting\n",
            "/policy\n",
            "/about/strategic-priorities\n",
            "/lib\n",
            "http://directory.uleth.ca\n",
            "https://uleth.sharepoint.com/sites/Intranet\n",
            "https://myexperience.ulethbridge.ca\n",
            "/webmail\n",
            "https://bridge.uleth.ca/\n",
            "https://moodle.uleth.ca/\n",
            "/admissions\n",
            "/giving\n",
            "https://www.ulethbridge.ca/unews/article/rural-medical-education-program-training-centres-one-step-closer-memorandum-understanding\n",
            "https://www.ulethbridge.ca/future-student/student-experience\n",
            "https://www.ulethbridge.ca/future-student/march-15-awards\n",
            "https://www.ulethbridge.ca/convocation/spring-2023-convocation#convocation\n",
            "https://stories.ulethbridge.ca/tag/spring-2023-convocation\n",
            "https://www.ulethbridge.ca/unews/article/university-lethbridge-becomes-first-post-secondary-school-sign-supporter-buffalo-treaty#.ZApKjC0ZM_U\n",
            "https://www.ulethbridge.ca/unews/article/graduate-student-entrepreneurs-earn-development-support-through-innovation-catalyst-grants\n",
            "https://www.ulethbridge.ca/unews/article/inspiring-and-motivating-instructor-dr-kristine-alexander-recognized-graduate-mentorship\n",
            "https://www.ulethbridge.ca/unews/article/world%E2%80%99s-leading-protein-synthesis-researcher-dr-nahum-sonenberg-receive-honorary-degree-0\n",
            "https://www.uleth.ca/unews/\n",
            "https://stories.ulethbridge.ca/\n",
            "/admissions\n",
            "http://www.uleth.ca/future-student/programs\n",
            "https://www.uleth.ca/future-student/graduate-studies/programs-admission\n",
            "/campus-life\n",
            "https://virtual-tour.ulethbridge.ca/ulethbridge/main-campus-tour\n",
            "https://www.ulethbridge.ca/calgary\n",
            "https://virtual-tour.ulethbridge.ca/ulethbridge/calgary-campus\n",
            "/about\n",
            "https://www.ulethbridge.ca/notice/events/spring-2024-convocation\n",
            "https://www.ulethbridge.ca/notice/events/2024-chancellors-dinner\n",
            "https://www.ulethbridge.ca/notice/events/ahead-herd-2024\n",
            "https://www.uleth.ca/notice/upcoming-events\n",
            "/campus-life/athletics\n",
            "/campus-life/fitness-and-recreation\n",
            "http://www.uleth.ca/artgallery/\n",
            "https://uleth.universitytickets.com/\n",
            "https://www.ulethbridge.ca/fine-arts/event-season\n",
            "/about\n",
            "https://www.uleth.ca/calgary\n",
            "https://www.uleth.ca/international\n",
            "https://www.uleth.ca/president/indigenous-initiatives\n",
            "/academics/faculties-and-schools\n",
            "https://www.uleth.ca/research\n",
            "/about/strategic-priorities\n",
            "https://www.ulethbridge.ca/giving/campaign-students\n",
            "https://www.ulethbridge.ca/ross/academic-calendar\n",
            "https://www.ulethbridge.ca/ross\n",
            "/campus-life/student-opportunities\n",
            "/campus-life/student-services\n",
            "/admissions\n",
            "/alumni\n",
            "/giving\n",
            "/community\n",
            "/careers\n",
            "https://www.ulethbridge.ca/notice/upcoming-events\n",
            "https://uleth.sharepoint.com/sites/Intranet\n",
            "/campus-life/campus-maps\n",
            "https://www.ulethbridge.ca/unews\n",
            "/\n",
            "/about/contact\n",
            "https://www.ulethbridge.ca/calgary\n",
            "https://directory.uleth.ca\n",
            "http://www.facebook.com/ulethbridge.ca\n",
            "http://twitter.com/intent/follow?source=followbutton&variant=1.0&screen_name=ULethbridge\n",
            "https://www.instagram.com/ulethbridge/\n",
            "http://www.youtube.com/user/ulethbridge\n",
            "https://www.linkedin.com/school/university-of-lethbridge\n",
            "/privacy-office/web-privacy-statement\n"
          ]
        }
      ],
      "source": [
        "#!/usr/bin/env python3\n",
        "# Anchor extraction from HTML document\n",
        "from bs4 import BeautifulSoup\n",
        "from urllib.request import urlopen\n",
        "with urlopen('https://www.ulethbridge.ca/') as response:\n",
        "    soup = BeautifulSoup(response, 'html.parser')\n",
        "    for anchor in soup.find_all('a'):\n",
        "        print(anchor.get('href', '/'))"
      ]
    },
    {
      "cell_type": "markdown",
      "source": [
        "Deadline"
      ],
      "metadata": {
        "id": "rDfjhhCW2NgC"
      }
    },
    {
      "cell_type": "code",
      "source": [
        "#!/usr/bin/env python3\n",
        "# Anchor extraction from HTML document\n",
        "from bs4 import BeautifulSoup\n",
        "from urllib.request import urlopen\n",
        "with urlopen('https://www.ulethbridge.ca/') as response:\n",
        "    soup = BeautifulSoup(response, 'html.parser')\n",
        "\n",
        "# Find all <a> tags with the specific class\n",
        "a_tags = soup.find_all('a', class_='btn-read-more')\n",
        "\n",
        "# Iterate through these <a> tags\n",
        "for a_tag in a_tags:\n",
        "\n",
        "    p_tag = a_tag.find('p')\n",
        "    if p_tag:\n",
        "\n",
        "        href = a_tag.get('href')\n",
        "        text = p_tag.get_text()\n",
        "        print(f'Link: {href}, Text: {text}')\n"
      ],
      "metadata": {
        "id": "OfE3Utk81jkY"
      },
      "execution_count": null,
      "outputs": []
    },
    {
      "cell_type": "markdown",
      "source": [
        "**Brandon** **university**"
      ],
      "metadata": {
        "id": "XLI7dVX939bi"
      }
    },
    {
      "cell_type": "markdown",
      "source": [
        "***program,\n",
        "scholarships,\n",
        "apply now ***"
      ],
      "metadata": {
        "id": "bxF2DcURGnaT"
      }
    },
    {
      "cell_type": "code",
      "source": [
        "#!/usr/bin/env python3\n",
        "# Anchor extraction from HTML document\n",
        "from bs4 import BeautifulSoup\n",
        "from urllib.request import urlopen\n",
        "with urlopen('https://www.brandonu.ca/') as response:\n",
        "    soup = BeautifulSoup(response, 'html.parser')\n",
        "\n",
        "div_tags = soup.find_all('div', class_='icon-heading')\n",
        "\n",
        "for div_tag in div_tags:\n",
        "\n",
        "    a_tag = div_tag.find('a')\n",
        "    if a_tag:\n",
        "\n",
        "        href = a_tag.get('href')\n",
        "        text = a_tag.get_text()\n",
        "        print(f'Link: {href}, Text: {text}')"
      ],
      "metadata": {
        "colab": {
          "base_uri": "https://localhost:8080/"
        },
        "id": "2_f5mXWy4L8K",
        "outputId": "69c0b76c-5b4c-4b7a-cbfb-fbf8c8654793"
      },
      "execution_count": null,
      "outputs": [
        {
          "output_type": "stream",
          "name": "stdout",
          "text": [
            "Link: https://www.brandonu.ca/future-students/programs/, Text: Programs\n",
            "Link: https://www.brandonu.ca/scholarships/, Text: Scholarships\n",
            "Link: https://www.brandonu.ca/future-students/visit/, Text: Visit Us\n",
            "Link: https://www.brandonu.ca/future-students/apply/, Text: Apply Now\n",
            "Link: https://www.brandonu.ca/indigenous/, Text: Indigenous\n",
            "Link: https://www.brandonu.ca/future-students/apply/international/, Text: International\n",
            "Link: https://www.brandonu.ca/library/, Text: Library\n",
            "Link: https://www.brandonu.ca/give/, Text: Give to BU\n"
          ]
        }
      ]
    },
    {
      "cell_type": "code",
      "source": [
        "#!/usr/bin/env python3\n",
        "# Anchor extraction from HTML document\n",
        "from bs4 import BeautifulSoup\n",
        "from urllib.request import urlopen\n",
        "with urlopen('https://www.brandonu.ca/') as response:\n",
        "    soup = BeautifulSoup(response, 'html.parser')\n",
        "ul_tags = soup.find_all('ul', class_='list-half-margin ebm')\n",
        "\n",
        "\n",
        "for ul_tag in ul_tags:\n",
        "\n",
        "    li_tags = ul_tag.find_all('li')\n",
        "    for li_tag in li_tags:\n",
        "\n",
        "        a_tag = li_tag.find('a')\n",
        "        if a_tag:\n",
        "\n",
        "            href = a_tag.get('href')\n",
        "            text = a_tag.get_text()\n",
        "            print(f'Link: {href}, Text: {text}')"
      ],
      "metadata": {
        "colab": {
          "base_uri": "https://localhost:8080/"
        },
        "id": "0AY0ANkDNzm-",
        "outputId": "29611ade-329b-474a-9173-2e3f475b71ca"
      },
      "execution_count": null,
      "outputs": [
        {
          "output_type": "stream",
          "name": "stdout",
          "text": [
            "Link: https://www.brandonu.ca/scholarships/, Text: Scholarships/Bursaries\n",
            "Link: https://www.bkstr.com/brandonustore/home, Text: Campus Books\n",
            "Link: https://webapp.brandonu.ca/pls/student/, Text: Tax Receipts\n",
            "Link: https://www.brandonu.ca/parking/, Text: Parking Pass\n",
            "Link: https://www.brandonu.ca/pay/, Text: Pay Your BU Account\n"
          ]
        }
      ]
    },
    {
      "cell_type": "code",
      "source": [
        "#!/usr/bin/env python3\n",
        "# Anchor extraction from HTML document\n",
        "from bs4 import BeautifulSoup\n",
        "from urllib.request import urlopen\n",
        "with urlopen('https://www.brandonu.ca/') as response:\n",
        "    soup = BeautifulSoup(response, 'html.parser')\n",
        "ul_tags = soup.find_all('ul', class_='list-half-margin')\n",
        "\n",
        "\n",
        "for ul_tag in ul_tags:\n",
        "\n",
        "    li_tags = ul_tag.find_all('li')\n",
        "    for li_tag in li_tags:\n",
        "\n",
        "        a_tag = li_tag.find('a')\n",
        "        if a_tag:\n",
        "\n",
        "            href = a_tag.get('href')\n",
        "            text = a_tag.get_text()\n",
        "            print(f'Link: {href}, Text: {text}')"
      ],
      "metadata": {
        "colab": {
          "base_uri": "https://localhost:8080/"
        },
        "outputId": "1983f73b-be9d-4ad1-8c8b-822c6591a2e2",
        "id": "o4w7k3j7PsS7"
      },
      "execution_count": null,
      "outputs": [
        {
          "output_type": "stream",
          "name": "stdout",
          "text": [
            "Link: https://www.brandonu.ca/scholarships/, Text: Scholarships/Bursaries\n",
            "Link: https://www.bkstr.com/brandonustore/home, Text: Campus Books\n",
            "Link: https://webapp.brandonu.ca/pls/student/, Text: Tax Receipts\n",
            "Link: https://www.brandonu.ca/parking/, Text: Parking Pass\n",
            "Link: https://www.brandonu.ca/pay/, Text: Pay Your BU Account\n",
            "Link: https://www.brandonu.ca/student-services/, Text: Student Services\n",
            "Link: https://www.brandonu.ca/residence/, Text: Residence\n",
            "Link: https://webapp.brandonu.ca/pls/student/, Text: Student Portal\n",
            "Link: https://webapp.brandonu.ca/pls/student/f?p=101:101, Text: Apply to Graduate\n",
            "Link: https://www.brandonu.ca/convocation/, Text: Convocation Information\n"
          ]
        }
      ]
    },
    {
      "cell_type": "code",
      "source": [
        "#!/usr/bin/env python3\n",
        "# Anchor extraction from HTML document\n",
        "from bs4 import BeautifulSoup\n",
        "from urllib.request import urlopen\n",
        "with urlopen('https://www.brandonu.ca/') as response:\n",
        "    soup = BeautifulSoup(response, 'html.parser')\n",
        "ul_tags = soup.find_all('ol')\n",
        "\n",
        "\n",
        "for ul_tag in ul_tags:\n",
        "\n",
        "    li_tags = ul_tag.find_all('li')\n",
        "    for li_tag in li_tags:\n",
        "\n",
        "        a_tag = li_tag.find('a')\n",
        "        if a_tag:\n",
        "\n",
        "            href = a_tag.get('href')\n",
        "            text = a_tag.get_text()\n",
        "            print(f'Link: {href}, Text: {text}')"
      ],
      "metadata": {
        "id": "CtyX2HA0UOMA"
      },
      "execution_count": null,
      "outputs": []
    },
    {
      "cell_type": "code",
      "source": [
        "from bs4 import BeautifulSoup\n",
        "from urllib.request import urlopen\n",
        "with urlopen('https://www.brandonu.ca/graduate-studies/') as response:\n",
        "    soup = BeautifulSoup(response, 'html.parser')\n",
        "\n",
        "div_tags = soup.find_all('div', class_='ebm')\n",
        "\n",
        "for div_tag in div_tags:\n",
        "\n",
        "    a_tags = div_tag.find_all('a')\n",
        "\n",
        "    for a_tag in a_tags:\n",
        "        if a_tag:\n",
        "            href = a_tag.get('href')\n",
        "            with urlopen('https://www.brandonu.ca'+href) as response2:\n",
        "                print(href.split('/')[-1])\n",
        "                soup2 = BeautifulSoup(response2, 'html.parser')\n",
        "                anchor = href.split('/')[-1]\n",
        "                anchor_tag = soup2.css.select(f'a[class = \"{anchor}\"]')\n",
        "                print(anchor_tag)\n",
        "                title_of_program = anchor_tag[0].parent.next_sibling\n",
        "                print(title_of_program.text)\n",
        "            text = a_tag.get_text()\n",
        "            print(f'Link: {href}, Text: {text}')"
      ],
      "metadata": {
        "colab": {
          "base_uri": "https://localhost:8080/",
          "height": 245
        },
        "id": "v4PyfFdMUC0C",
        "outputId": "3bf595d7-099e-4ee4-f2e9-6bda1177d72d"
      },
      "execution_count": null,
      "outputs": [
        {
          "output_type": "stream",
          "name": "stdout",
          "text": [
            "#mrd\n",
            "[]\n"
          ]
        },
        {
          "output_type": "error",
          "ename": "IndexError",
          "evalue": "list index out of range",
          "traceback": [
            "\u001b[0;31m---------------------------------------------------------------------------\u001b[0m",
            "\u001b[0;31mIndexError\u001b[0m                                Traceback (most recent call last)",
            "\u001b[0;32m<ipython-input-1-8ecd9a3ef7ac>\u001b[0m in \u001b[0;36m<cell line: 8>\u001b[0;34m()\u001b[0m\n\u001b[1;32m     19\u001b[0m                 \u001b[0manchor_tag\u001b[0m \u001b[0;34m=\u001b[0m \u001b[0msoup2\u001b[0m\u001b[0;34m.\u001b[0m\u001b[0mcss\u001b[0m\u001b[0;34m.\u001b[0m\u001b[0mselect\u001b[0m\u001b[0;34m(\u001b[0m\u001b[0;34mf'a[class = \"{anchor}\"]'\u001b[0m\u001b[0;34m)\u001b[0m\u001b[0;34m\u001b[0m\u001b[0;34m\u001b[0m\u001b[0m\n\u001b[1;32m     20\u001b[0m                 \u001b[0mprint\u001b[0m\u001b[0;34m(\u001b[0m\u001b[0manchor_tag\u001b[0m\u001b[0;34m)\u001b[0m\u001b[0;34m\u001b[0m\u001b[0;34m\u001b[0m\u001b[0m\n\u001b[0;32m---> 21\u001b[0;31m                 \u001b[0mtitle_of_program\u001b[0m \u001b[0;34m=\u001b[0m \u001b[0manchor_tag\u001b[0m\u001b[0;34m[\u001b[0m\u001b[0;36m0\u001b[0m\u001b[0;34m]\u001b[0m\u001b[0;34m.\u001b[0m\u001b[0mparent\u001b[0m\u001b[0;34m.\u001b[0m\u001b[0mnext_sibling\u001b[0m\u001b[0;34m\u001b[0m\u001b[0;34m\u001b[0m\u001b[0m\n\u001b[0m\u001b[1;32m     22\u001b[0m                 \u001b[0mprint\u001b[0m\u001b[0;34m(\u001b[0m\u001b[0mtitle_of_program\u001b[0m\u001b[0;34m.\u001b[0m\u001b[0mtext\u001b[0m\u001b[0;34m)\u001b[0m\u001b[0;34m\u001b[0m\u001b[0;34m\u001b[0m\u001b[0m\n\u001b[1;32m     23\u001b[0m             \u001b[0mtext\u001b[0m \u001b[0;34m=\u001b[0m \u001b[0ma_tag\u001b[0m\u001b[0;34m.\u001b[0m\u001b[0mget_text\u001b[0m\u001b[0;34m(\u001b[0m\u001b[0;34m)\u001b[0m\u001b[0;34m\u001b[0m\u001b[0;34m\u001b[0m\u001b[0m\n",
            "\u001b[0;31mIndexError\u001b[0m: list index out of range"
          ]
        }
      ]
    },
    {
      "cell_type": "code",
      "source": [
        "#!/usr/bin/env python3\n",
        "# Anchor extraction from HTML document\n",
        "from bs4 import BeautifulSoup\n",
        "from urllib.request import urlopen\n",
        "with urlopen('https://www.brandonu.ca/future-students/apply/international/guide/') as response:\n",
        "    soup = BeautifulSoup(response, 'html.parser')\n",
        "    h2_tags = soup.find_all('h2')\n",
        "    for h2_tag in h2_tags:\n",
        "       ul_tag = h2_tag.find('ul')\n",
        "    for ul_tag in ul_tags:\n",
        "\n",
        "     li_tags = ul_tag.find_all('li')\n",
        "    for li_tag in li_tags:\n",
        "\n",
        "        a_tag = li_tag.find('a')\n",
        "        if a_tag:\n",
        "\n",
        "            href = a_tag.get('href')\n",
        "            text = a_tag.get_text()\n",
        "            print(f'Link: {href}, Text: {text}')"
      ],
      "metadata": {
        "colab": {
          "base_uri": "https://localhost:8080/"
        },
        "id": "-ewoXvVHlQXn",
        "outputId": "2e69ab3e-b10c-4c3f-b7df-e5269450184d"
      },
      "execution_count": null,
      "outputs": [
        {
          "output_type": "stream",
          "name": "stdout",
          "text": [
            "Link: https://www.brandonu.ca/, Text: Brandon University\n",
            "Link: https://www.brandonu.ca/contact/, Text: Contact Us\n",
            "Link: https://www.brandonu.ca/services/emergency-numbers/, Text: Emergency Info\n",
            "Link: https://www.brandonu.ca/ama/, Text: Accessibility\n"
          ]
        }
      ]
    },
    {
      "cell_type": "code",
      "source": [
        "#!/usr/bin/env python3\n",
        "# Anchor extraction from HTML document\n",
        "from bs4 import BeautifulSoup\n",
        "from urllib.request import urlopen\n",
        "with urlopen('https://www.brandonu.ca/future-students/apply/international/guide/') as response:\n",
        "    soup = BeautifulSoup(response, 'html.parser')\n",
        "    all_string=soup.find_all(\"h2\")[13].get_text()\n",
        "\n",
        "    print(all_string)"
      ],
      "metadata": {
        "colab": {
          "base_uri": "https://localhost:8080/"
        },
        "id": "ntqYJguFJ3XT",
        "outputId": "96e99fd9-eff9-4c97-98b0-787673e16b65"
      },
      "execution_count": null,
      "outputs": [
        {
          "output_type": "stream",
          "name": "stdout",
          "text": [
            "Important Links\n"
          ]
        }
      ]
    },
    {
      "cell_type": "code",
      "source": [
        "for all_string in all_string:\n",
        "       ul_tag = all_string.find('ul')\n",
        "for ul_tag in ul_tags:\n",
        "\n",
        "     li_tags = ul_tag.find_all('li')\n",
        "for li_tag in li_tags:\n",
        "\n",
        "        a_tag = li_tag.find('a')\n",
        "        if a_tag:\n",
        "\n",
        "            href = a_tag.get('href')\n",
        "            text = a_tag.get_text()\n",
        "            print(f'Link: {href}, Text: {text}')"
      ],
      "metadata": {
        "colab": {
          "base_uri": "https://localhost:8080/"
        },
        "id": "v79RDJU5PVCc",
        "outputId": "45fccd9e-f17e-43b7-b148-145d39fb786e"
      },
      "execution_count": null,
      "outputs": [
        {
          "output_type": "stream",
          "name": "stdout",
          "text": [
            "Link: https://www.brandonu.ca/, Text: Brandon University\n",
            "Link: https://www.brandonu.ca/contact/, Text: Contact Us\n",
            "Link: https://www.brandonu.ca/services/emergency-numbers/, Text: Emergency Info\n",
            "Link: https://www.brandonu.ca/ama/, Text: Accessibility\n"
          ]
        }
      ]
    },
    {
      "cell_type": "code",
      "source": [
        "#!/usr/bin/env python3\n",
        "# Anchor extraction from HTML document\n",
        "from bs4 import BeautifulSoup\n",
        "from urllib.request import urlopen\n",
        "with urlopen('https://www.brandonu.ca/future-students/apply/international/guide/') as response:\n",
        "    soup = BeautifulSoup(response, 'html.parser')\n",
        "    ul_list = soup.find_all(\"ul\")[2]\n",
        "\n",
        "    # h2_tags = soup.find_all(\"h2\")[13]\n",
        "    # for h2_tag in h2_tags:\n",
        "    #    ul_tag = h2_tag.find('ul')\n",
        "    # for ul_tag in ul_tags:\n",
        "\n",
        "    li_tags = ul_list.find_all('li')\n",
        "    for li_tag in li_tags:\n",
        "\n",
        "        a_tag = li_tag.find('a')\n",
        "        if a_tag:\n",
        "\n",
        "            href = a_tag.get('href')\n",
        "            text = a_tag.get_text()\n",
        "            print(f'Link: {href}, Text: {text}')"
      ],
      "metadata": {
        "colab": {
          "base_uri": "https://localhost:8080/"
        },
        "id": "EMdGoU5zQXT2",
        "outputId": "bd1b7e55-2f3f-4b28-f30e-0f44b82c5ae3"
      },
      "execution_count": null,
      "outputs": [
        {
          "output_type": "stream",
          "name": "stdout",
          "text": [
            "Link: https://www.brandonu.ca/international-activities/, Text: Office of International Activities\n",
            "Link: https://www.brandonu.ca/eap/, Text: English for Academic Purposes\n",
            "Link: https://www.brandonu.ca/future-students/apply/international/deadlines/, Text: International Application Deadlines\n",
            "Link: https://www.brandonu.ca/future-students/apply/, Text: Steps to Apply\n",
            "Link: https://webapp.brandonu.ca/pls/admission/, Text: Apply Online\n",
            "Link: https://www.brandonu.ca/future-students/tuition/, Text: Tuition Fees\n",
            "Link: https://www.brandonu.ca/pay/international-student-payments/, Text: How to Pay Tuition\n",
            "Link: https://www.brandonu.ca/future-students/programs/, Text: Programs Available\n",
            "Link: https://www.brandonu.ca/residence/, Text: Residence at Brandon University\n",
            "Link: https://www.brandonu.ca/campus-map/, Text: Campus Map\n",
            "Link: http://www.brandon.ca/, Text: City of Brandon\n"
          ]
        }
      ]
    }
  ]
}