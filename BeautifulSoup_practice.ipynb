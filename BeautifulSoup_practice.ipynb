{
  "nbformat": 4,
  "nbformat_minor": 0,
  "metadata": {
    "colab": {
      "provenance": [],
      "toc_visible": true,
      "include_colab_link": true
    },
    "kernelspec": {
      "name": "python3",
      "display_name": "Python 3"
    },
    "language_info": {
      "name": "python"
    }
  },
  "cells": [
    {
      "cell_type": "markdown",
      "metadata": {
        "id": "view-in-github",
        "colab_type": "text"
      },
      "source": [
        "<a href=\"https://colab.research.google.com/github/fariha65/Data_Scraping/blob/main/BeautifulSoup_practice.ipynb\" target=\"_parent\"><img src=\"https://colab.research.google.com/assets/colab-badge.svg\" alt=\"Open In Colab\"/></a>"
      ]
    },
    {
      "cell_type": "code",
      "source": [
        "from bs4 import BeautifulSoup\n",
        "import requests\n",
        "\n",
        "\n",
        "url = \"https://www.timeshighereducation.com/world-university-rankings/2024/world-ranking#!/length/25/locations/BGD/subjects/3081/sort_by/scores_overall/sort_order/asc/cols/scores\"\n",
        "req = requests.get(url)\n",
        "\n",
        "soup = BeautifulSoup(req.content, \"html.parser\")\n",
        "\n",
        "print(soup.title)"
      ],
      "metadata": {
        "colab": {
          "base_uri": "https://localhost:8080/"
        },
        "id": "MdTbhbTHUmkH",
        "outputId": "455a720c-b1e5-4b56-bcc7-764f9cd7a864"
      },
      "execution_count": null,
      "outputs": [
        {
          "output_type": "stream",
          "name": "stdout",
          "text": [
            "None\n"
          ]
        }
      ]
    },
    {
      "cell_type": "code",
      "execution_count": null,
      "metadata": {
        "colab": {
          "base_uri": "https://localhost:8080/"
        },
        "id": "UD4LY89rBKqk",
        "outputId": "f0ba0ae9-c645-4277-ca5e-7fb8e4f0576d"
      },
      "outputs": [
        {
          "output_type": "stream",
          "name": "stdout",
          "text": [
            "<title>World University Rankings 2024 | Times Higher Education (THE)</title>\n"
          ]
        }
      ],
      "source": [
        "#!/usr/bin/env python3\n",
        "# Anchor extraction from HTML document\n",
        "from bs4 import BeautifulSoup\n",
        "from urllib.request import urlopen\n",
        "with urlopen('https://www.timeshighereducation.com/world-university-rankings/2024/world-ranking#!/length/25/locations/BGD/subjects/3081/sort_by/scores_overall/sort_order/asc/cols/scores') as response:\n",
        "    soup = BeautifulSoup(response, 'html.parser')\n",
        "\n",
        "    print(soup.title)\n",
        "\n"
      ]
    },
    {
      "cell_type": "code",
      "source": [
        "\n",
        "for link in soup.find_all('a'):\n",
        "   print(link.get('href'))"
      ],
      "metadata": {
        "id": "BarRPLU3XUk5",
        "colab": {
          "base_uri": "https://localhost:8080/"
        },
        "outputId": "c499a041-7315-4b37-e199-701fb4a0a882"
      },
      "execution_count": null,
      "outputs": [
        {
          "output_type": "stream",
          "name": "stdout",
          "text": [
            "#main-content\n",
            "https://www.timeshighereducation.com/\n",
            "https://www.timeshighereducation.com/\n",
            "https://www.timeshighereducation.com/academic/news\n",
            "https://www.timeshighereducation.com/world-university-rankings\n",
            "https://www.timeshighereducation.com/unijobs\n",
            "https://www.timeshighereducation.com/student\n",
            "https://www.timeshighereducation.com/events\n",
            "https://www.timeshighereducation.com/campus\n",
            "https://www.timeshighereducation.com/our-solutions\n",
            "https://www.timeshighereducation.com/academic/news\n",
            "https://www.timeshighereducation.com/academic/news\n",
            "https://www.timeshighereducation.com/academic/news/all\n",
            "https://www.timeshighereducation.com/academic/opinion\n",
            "https://www.timeshighereducation.com/academic/features\n",
            "https://www.timeshighereducation.com/academic/talking-leadership\n",
            "https://www.timeshighereducation.com/digital-editions\n",
            "https://www.timeshighereducation.com/newsletters\n",
            "https://www.timeshighereducation.com/search\n",
            "https://www.timeshighereducation.com/campus\n",
            "https://www.timeshighereducation.com/campus\n",
            "https://www.timeshighereducation.com/campus/key-topics\n",
            "https://www.timeshighereducation.com/campus/spotlight\n",
            "https://www.timeshighereducation.com/campus/collections\n",
            "https://www.timeshighereducation.com/campus/keywords/podcast\n",
            "https://www.timeshighereducation.com/campus/partners\n",
            "https://www.timeshighereducation.com/campus/about-campus\n",
            "https://www.timeshighereducation.com/newsletters\n",
            "https://www.timeshighereducation.com/unijobs\n",
            "https://www.timeshighereducation.com/unijobs\n",
            "https://www.timeshighereducation.com/unijobs/listings\n",
            "https://www.timeshighereducation.com/unijobs/newalert\n",
            "https://www.timeshighereducation.com/unijobs/careers\n",
            "https://recruiters.timeshighereducation.com/pricing\n",
            "https://www.timeshighereducation.com/events\n",
            "https://www.timeshighereducation.com/events\n",
            "https://www.timeshighereducation.com/events/upcoming\n",
            "https://www.timeshighereducation.com/events/sponsor\n",
            "https://www.timeshighereducation.com/events/awards\n",
            "https://www.timeshighereducation.com/search\n",
            "https://www.timeshighereducation.com/world-university-rankings\n",
            "https://www.timeshighereducation.com/world-university-rankings\n",
            "https://www.timeshighereducation.com/world-university-rankings/2024/world-ranking\n",
            "https://www.timeshighereducation.com/impactrankings\n",
            "https://www.timeshighereducation.com/world-university-rankings/by-subject\n",
            "https://www.timeshighereducation.com/world-university-rankings/2023/reputation-ranking\n",
            "https://www.timeshighereducation.com/world-university-rankings/2023/arab-university-rankings\n",
            "https://www.timeshighereducation.com/world-university-rankings/2024/regional-ranking\n",
            "https://www.timeshighereducation.com/ratings/china-subject-ratings/2024\n",
            "https://www.timeshighereducation.com/rankings/japan-university/2023\n",
            "https://www.timeshighereducation.com/sub-saharan-africa-university-rankings\n",
            "https://www.timeshighereducation.com/policy/rankings\n",
            "https://www.timeshighereducation.com/world-university-rankings/about-the-times-higher-education-world-university-rankings\n",
            "https://www.timeshighereducation.com/search\n",
            "https://www.timeshighereducation.com/student\n",
            "https://www.timeshighereducation.com/student\n",
            "https://www.timeshighereducation.com/student/best-universities\n",
            "https://www.timeshighereducation.com/student/poets-and-quants\n",
            "https://www.timeshighereducation.com/student/events\n",
            "https://www.timeshighereducation.com/student/certifications/skills-now-maximise-your-employability\n",
            "https://www.timeshighereducation.com/counsellor\n",
            "https://www.timeshighereducation.com/student/ambassadors\n",
            "https://www.timeshighereducation.com/our-solutions\n",
            "https://www.timeshighereducation.com/our-solutions\n",
            "https://www.timeshighereducation.com/our-solutions/data-and-insights\n",
            "https://www.timeshighereducation.com/our-solutions/consultancy\n",
            "https://www.timeshighereducation.com/our-solutions/hiring-solutions\n",
            "https://www.timeshighereducation.com/our-solutions/branding\n",
            "https://www.timeshighereducation.com/our-solutions/institutional-subscriptions\n",
            "https://www.timeshighereducation.com/our-solutions/student-recruitment\n",
            "https://www.timeshighereducation.com/our-solutions/campus-partnership\n",
            "https://www.timeshighereducation.com/search\n",
            "https://twitter.com/intent/tweet?url=https://www.timeshighereducation.com/world-university-rankings/2024/world-ranking&via=timeshighered&text=World University Rankings 2024\n",
            "https://www.facebook.com/sharer/sharer.php?u=https://www.timeshighereducation.com/world-university-rankings/2024/world-ranking&p[title]=World University Rankings 2024\n",
            "/the-ums-modal/register/nojs\n",
            "/the-ums-modal/login/nojs\n",
            "/store\n",
            "None\n",
            "https://www.timeshighereducation.com/world-university-rankings/world-university-rankings-2024-methodology\n",
            "https://www.timeshighereducation.com/world-university-rankings/world-university-rankings-2024-methodology\n",
            "https://www.timeshighereducation.com/world-university-rankings/world-university-rankings-2024-china-creeps-closer-top-10\n",
            "https://www.timeshighereducation.com/digital-editions/world-university-rankings-2024-digital-edition\n",
            "mailto:branding@timeshighereducation.com\n",
            "https://www.timeshighereducation.com/our-solutions/data-and-insights\n",
            "/submitting-data-times-higher-education-2020-world-university-rankings\n",
            "https://twitter.com/intent/tweet?url=https://www.timeshighereducation.com/world-university-rankings/2024/world-ranking&via=timeshighered&text=World University Rankings 2024\n",
            "https://www.facebook.com/sharer/sharer.php?u=https://www.timeshighereducation.com/world-university-rankings/2024/world-ranking&p[title]=World University Rankings 2024\n",
            "https://www.linkedin.com/shareArticle?url=https://www.timeshighereducation.com/world-university-rankings/2024/world-ranking&title=World University Rankings 2024\n",
            "mailto:?subject=Check out World University Rankings 2024&body= View it here https://www.timeshighereducation.com/world-university-rankings/2024/world-ranking&url=https://www.timeshighereducation.com/world-university-rankings/2024/world-ranking&title=World University Rankings 2024\n",
            "/world-university-rankings-2024-table-information\n",
            "/student/best-universities/best-universities-world\n",
            "/student/best-universities/best-universities-uk\n",
            "/student/best-universities/best-universities-united-states\n",
            "/student/best-universities/best-universities-canada\n",
            "/student/best-universities/best-universities-australia\n",
            "/student/best-universities/best-universities-germany\n",
            "/student/best-universities/best-universities-europe\n",
            "/news/world-university-rankings-2024-results-announced\n",
            "/world-university-rankings/world-university-rankings-2024-20th-edition\n",
            "/world-university-rankings/world-university-rankings-2024-china-creeps-closer-top-10\n",
            "/news/world-university-rankings-2024-warning-uks-china-reliance\n",
            "/news/world-university-rankings-2024-australian-elite-falters\n",
            "/world-university-rankings/world-university-rankings-2024-broader-look-research-quality\n",
            "/world-university-rankings/world-university-rankings-2024-australia-over-achieves-research\n",
            "/world-university-rankings/world-university-rankings-2024-indonesia-top-student-staff-ratio\n",
            "/world-university-rankings/world-university-rankings-2024-trends-industry\n",
            "/world-university-rankings/world-university-rankings-2024-uk-doubles-down-global-links\n",
            "/world-university-rankings/shape-rankings-come\n",
            "/world-university-rankings/world-university-rankings-2024-20-years-tracking-global-higher-education\n",
            "/talking-leadership/talking-leadership-david-garza-enticing-top-scholars-mexico\n",
            "/world-university-rankings/hkust-head-universities-must-ignite-sparks-innovation\n",
            "/talking-leadership/talking-leadership-erik-renstrom-industry-partnerships\n",
            "/opinion/nyu-president-global-engagement-form-alchemy\n",
            "/world-university-rankings/world-university-rankings-2024-changes-our-methodology\n",
            "/talking-leadership/lagos-v-c-nigerian-universities-must-hustle-funding\n",
            "/world-university-rankings/enticing-students-back-campus-not-simple-endeavour\n",
            "/talking-leadership/talking-leadership-daniel-diermeier-institutional-neutrality\n",
            "/talking-leadership/talking-leadership-cheryl-de-la-rey-tragedy-and-resilience\n",
            "/talking-leadership/talking-leadership-gary-may-attracting-minority-students\n",
            "/digital-editions/world-university-rankings-2024-digital-edition\n",
            "/world-university-rankings/world-university-rankings-2024-methodology\n",
            "https://www.timeshighereducation.com/content/interdisciplinary-science-rankings-participation?utm_source=academic-website&utm_medium=link_embed&utm_campaign=interdisciplinary-science-research-rankings-24&utm_content=participation\n",
            "https://www.timeshighereducation.com/content/world-university-rankings-2025-participation?utm_source=academic-website&utm_medium=link_embed&utm_campaign=world-university-rankings-25&utm_content=participation\n",
            "//www.timeshighereducation.com/unijobs/listings/\n",
            "/the-ums-modal/login/nojs?post_login_redirect_callback=redirectToExternalWithUserData\n",
            "/world-university-rankings/ie-university\n",
            "/world-university-rankings/ie-university\n",
            "/world-university-rankings/ie-university\n",
            "/world-university-rankings/ie-university?popupvideo=true\n",
            "/world-university-rankings/ie-university\n",
            "/world-university-rankings/dalhousie-university\n",
            "/world-university-rankings/dalhousie-university\n",
            "/world-university-rankings/dalhousie-university\n",
            "/world-university-rankings/dalhousie-university?popupvideo=true\n",
            "/world-university-rankings/dalhousie-university\n",
            "/world-university-rankings/city-university-macau\n",
            "/world-university-rankings/city-university-macau\n",
            "/world-university-rankings/city-university-macau\n",
            "/world-university-rankings/city-university-macau?popupvideo=true\n",
            "/world-university-rankings/city-university-macau\n",
            "/world-university-rankings/soochow-university-china\n",
            "/world-university-rankings/soochow-university-china\n",
            "/world-university-rankings/soochow-university-china\n",
            "/world-university-rankings/soochow-university-china?popupvideo=true\n",
            "/world-university-rankings/soochow-university-china\n",
            "/faqs/general-faqs\n",
            "/contact-us\n",
            "/about-us\n",
            "https://careers.timeshighereducation.com/\n",
            "/write-times-higher-education\n",
            "/terms-and-conditions\n",
            "/privacy-policy\n",
            "/cookie-policy\n",
            "/content/online-accessibility-statement\n",
            "/our-partners\n",
            "/media-centre\n",
            "/about-us/modern-slavery-act-2015\n",
            "/world-university-rankings/2024/world-ranking\n",
            "/cn/world-university-rankings/2024/world-ranking\n",
            "/store\n"
          ]
        }
      ]
    },
    {
      "cell_type": "code",
      "source": [
        "\n",
        "print(soup.body.h1)"
      ],
      "metadata": {
        "colab": {
          "base_uri": "https://localhost:8080/"
        },
        "id": "XgS47KCfaLr_",
        "outputId": "2452f0b5-217b-433a-aa8b-50de3625b6c7"
      },
      "execution_count": null,
      "outputs": [
        {
          "output_type": "stream",
          "name": "stdout",
          "text": [
            "<h1 class=\"pane-title\">World University Rankings 2024</h1>\n"
          ]
        }
      ]
    },
    {
      "cell_type": "code",
      "execution_count": null,
      "metadata": {
        "colab": {
          "base_uri": "https://localhost:8080/",
          "height": 1000
        },
        "outputId": "31ee4a22-ef77-4fd7-8779-463393f387cb",
        "id": "IKO66BDHqecU"
      },
      "outputs": [
        {
          "output_type": "stream",
          "name": "stdout",
          "text": [
            "#main-content\n",
            "https://www.timeshighereducation.com/\n",
            "https://www.timeshighereducation.com/\n",
            "https://www.timeshighereducation.com/academic/news\n",
            "https://www.timeshighereducation.com/world-university-rankings\n",
            "https://www.timeshighereducation.com/unijobs\n",
            "https://www.timeshighereducation.com/student\n",
            "https://www.timeshighereducation.com/events\n",
            "https://www.timeshighereducation.com/campus\n",
            "https://www.timeshighereducation.com/our-solutions\n",
            "https://www.timeshighereducation.com/academic/news\n",
            "https://www.timeshighereducation.com/academic/news\n",
            "https://www.timeshighereducation.com/academic/news/all\n",
            "https://www.timeshighereducation.com/academic/opinion\n",
            "https://www.timeshighereducation.com/academic/features\n",
            "https://www.timeshighereducation.com/academic/talking-leadership\n",
            "https://www.timeshighereducation.com/digital-editions\n",
            "https://www.timeshighereducation.com/newsletters\n",
            "https://www.timeshighereducation.com/search\n",
            "https://www.timeshighereducation.com/campus\n",
            "https://www.timeshighereducation.com/campus\n",
            "https://www.timeshighereducation.com/campus/key-topics\n",
            "https://www.timeshighereducation.com/campus/spotlight\n",
            "https://www.timeshighereducation.com/campus/collections\n",
            "https://www.timeshighereducation.com/campus/keywords/podcast\n",
            "https://www.timeshighereducation.com/campus/partners\n",
            "https://www.timeshighereducation.com/campus/about-campus\n",
            "https://www.timeshighereducation.com/newsletters\n",
            "https://www.timeshighereducation.com/unijobs\n",
            "https://www.timeshighereducation.com/unijobs\n",
            "https://www.timeshighereducation.com/unijobs/listings\n",
            "https://www.timeshighereducation.com/unijobs/newalert\n",
            "https://www.timeshighereducation.com/unijobs/careers\n",
            "https://recruiters.timeshighereducation.com/pricing\n",
            "https://www.timeshighereducation.com/events\n",
            "https://www.timeshighereducation.com/events\n",
            "https://www.timeshighereducation.com/events/upcoming\n",
            "https://www.timeshighereducation.com/events/sponsor\n",
            "https://www.timeshighereducation.com/events/awards\n",
            "https://www.timeshighereducation.com/search\n",
            "https://www.timeshighereducation.com/world-university-rankings\n",
            "https://www.timeshighereducation.com/world-university-rankings\n",
            "https://www.timeshighereducation.com/world-university-rankings/2024/world-ranking\n",
            "https://www.timeshighereducation.com/impactrankings\n",
            "https://www.timeshighereducation.com/world-university-rankings/by-subject\n",
            "https://www.timeshighereducation.com/world-university-rankings/2023/reputation-ranking\n",
            "https://www.timeshighereducation.com/world-university-rankings/2023/arab-university-rankings\n",
            "https://www.timeshighereducation.com/world-university-rankings/2024/regional-ranking\n",
            "https://www.timeshighereducation.com/ratings/china-subject-ratings/2024\n",
            "https://www.timeshighereducation.com/rankings/japan-university/2023\n",
            "https://www.timeshighereducation.com/sub-saharan-africa-university-rankings\n",
            "https://www.timeshighereducation.com/policy/rankings\n",
            "https://www.timeshighereducation.com/world-university-rankings/about-the-times-higher-education-world-university-rankings\n",
            "https://www.timeshighereducation.com/search\n",
            "https://www.timeshighereducation.com/student\n",
            "https://www.timeshighereducation.com/student\n",
            "https://www.timeshighereducation.com/student/best-universities\n",
            "https://www.timeshighereducation.com/student/poets-and-quants\n",
            "https://www.timeshighereducation.com/student/events\n",
            "https://www.timeshighereducation.com/student/certifications/skills-now-maximise-your-employability\n",
            "https://www.timeshighereducation.com/counsellor\n",
            "https://www.timeshighereducation.com/student/ambassadors\n",
            "https://www.timeshighereducation.com/our-solutions\n",
            "https://www.timeshighereducation.com/our-solutions\n",
            "https://www.timeshighereducation.com/our-solutions/data-and-insights\n",
            "https://www.timeshighereducation.com/our-solutions/consultancy\n",
            "https://www.timeshighereducation.com/our-solutions/hiring-solutions\n",
            "https://www.timeshighereducation.com/our-solutions/branding\n",
            "https://www.timeshighereducation.com/our-solutions/institutional-subscriptions\n",
            "https://www.timeshighereducation.com/our-solutions/student-recruitment\n",
            "https://www.timeshighereducation.com/our-solutions/campus-partnership\n",
            "https://www.timeshighereducation.com/search\n",
            "https://twitter.com/intent/tweet?url=https://www.timeshighereducation.com/world-university-rankings/university-oxford&via=timeshighered&text=University of Oxford\n",
            "https://www.facebook.com/sharer/sharer.php?u=https://www.timeshighereducation.com/world-university-rankings/university-oxford&p[title]=University of Oxford\n",
            "/the-ums-modal/register/nojs\n",
            "/the-ums-modal/login/nojs\n",
            "/store\n"
          ]
        },
        {
          "output_type": "error",
          "ename": "KeyError",
          "evalue": "'href'",
          "traceback": [
            "\u001b[0;31m---------------------------------------------------------------------------\u001b[0m",
            "\u001b[0;31mKeyError\u001b[0m                                  Traceback (most recent call last)",
            "\u001b[0;32m<ipython-input-23-ce0ae2b005c8>\u001b[0m in \u001b[0;36m<cell line: 6>\u001b[0;34m()\u001b[0m\n\u001b[1;32m      8\u001b[0m     \u001b[0;32mfor\u001b[0m \u001b[0mlink\u001b[0m \u001b[0;32min\u001b[0m \u001b[0msoup\u001b[0m\u001b[0;34m.\u001b[0m\u001b[0mfind_all\u001b[0m\u001b[0;34m(\u001b[0m\u001b[0;34m'a'\u001b[0m\u001b[0;34m)\u001b[0m\u001b[0;34m:\u001b[0m\u001b[0;34m\u001b[0m\u001b[0;34m\u001b[0m\u001b[0m\n\u001b[1;32m      9\u001b[0m         \u001b[0;31m# valid_link = link.find_all('href',re.compile(\"[a-z]+\"))\u001b[0m\u001b[0;34m\u001b[0m\u001b[0;34m\u001b[0m\u001b[0m\n\u001b[0;32m---> 10\u001b[0;31m         \u001b[0;32mif\u001b[0m \u001b[0mlink\u001b[0m\u001b[0;34m[\u001b[0m\u001b[0;34m'href'\u001b[0m\u001b[0;34m]\u001b[0m\u001b[0;34m!=\u001b[0m\u001b[0;32mNone\u001b[0m\u001b[0;34m:\u001b[0m\u001b[0;34m\u001b[0m\u001b[0;34m\u001b[0m\u001b[0m\n\u001b[0m\u001b[1;32m     11\u001b[0m             \u001b[0mprint\u001b[0m\u001b[0;34m(\u001b[0m\u001b[0mlink\u001b[0m\u001b[0;34m[\u001b[0m\u001b[0;34m'href'\u001b[0m\u001b[0;34m]\u001b[0m\u001b[0;34m)\u001b[0m\u001b[0;34m\u001b[0m\u001b[0;34m\u001b[0m\u001b[0m\n\u001b[1;32m     12\u001b[0m \u001b[0;34m\u001b[0m\u001b[0m\n",
            "\u001b[0;32m/usr/local/lib/python3.10/dist-packages/bs4/element.py\u001b[0m in \u001b[0;36m__getitem__\u001b[0;34m(self, key)\u001b[0m\n\u001b[1;32m   1571\u001b[0m         \"\"\"tag[key] returns the value of the 'key' attribute for the Tag,\n\u001b[1;32m   1572\u001b[0m         and throws an exception if it's not there.\"\"\"\n\u001b[0;32m-> 1573\u001b[0;31m         \u001b[0;32mreturn\u001b[0m \u001b[0mself\u001b[0m\u001b[0;34m.\u001b[0m\u001b[0mattrs\u001b[0m\u001b[0;34m[\u001b[0m\u001b[0mkey\u001b[0m\u001b[0;34m]\u001b[0m\u001b[0;34m\u001b[0m\u001b[0;34m\u001b[0m\u001b[0m\n\u001b[0m\u001b[1;32m   1574\u001b[0m \u001b[0;34m\u001b[0m\u001b[0m\n\u001b[1;32m   1575\u001b[0m     \u001b[0;32mdef\u001b[0m \u001b[0m__iter__\u001b[0m\u001b[0;34m(\u001b[0m\u001b[0mself\u001b[0m\u001b[0;34m)\u001b[0m\u001b[0;34m:\u001b[0m\u001b[0;34m\u001b[0m\u001b[0;34m\u001b[0m\u001b[0m\n",
            "\u001b[0;31mKeyError\u001b[0m: 'href'"
          ]
        }
      ],
      "source": [
        "#!/usr/bin/env python3\n",
        "# Anchor extraction from HTML document\n",
        "import re\n",
        "from bs4 import BeautifulSoup\n",
        "from urllib.request import urlopen\n",
        "with urlopen('https://www.timeshighereducation.com/world-university-rankings/university-oxford') as response:\n",
        "    soup = BeautifulSoup(response, 'html.parser')\n",
        "    for link in soup.find_all('a'):\n",
        "        # valid_link = link.find_all('href',re.compile(\"[a-z]+\"))\n",
        "        if link['href']!=None:\n",
        "            print(link['href'])\n",
        "\n",
        "\n",
        "\n"
      ]
    },
    {
      "cell_type": "code",
      "source": [
        "from bs4 import BeautifulSoup\n",
        "from urllib.request import urlopen\n",
        "with urlopen('https://www.timeshighereducation.com/world-university-rankings/university-oxford') as response:\n",
        "    soup = BeautifulSoup(response, 'html.parser')\n",
        "\n",
        "    con= soup.find_all(\"div\",{\"class\":\"panel-pane pane-university-rankings-chart\"})\n",
        "    print(con[0].h2.text)\n",
        "\n"
      ],
      "metadata": {
        "colab": {
          "base_uri": "https://localhost:8080/"
        },
        "id": "ZjfoRHyDaIz2",
        "outputId": "121cc1b5-c666-402b-d34f-4a12d77f55ec"
      },
      "execution_count": null,
      "outputs": [
        {
          "output_type": "stream",
          "name": "stdout",
          "text": [
            "\n",
            "      Explore rankings data for University of Oxford    \n"
          ]
        }
      ]
    },
    {
      "cell_type": "code",
      "source": [
        "from re import findall\n",
        "from bs4 import BeautifulSoup\n",
        "from urllib.request import urlopen\n",
        "\n",
        "with urlopen('https://www.timeshighereducation.com/world-university-rankings/university-oxford') as response:\n",
        "    soup = BeautifulSoup(response, 'html.parser')\n",
        "    con= soup.find_all(\"footer\",\"js-footer\")\n",
        "    print(con)\n",
        "    for element in con:\n",
        "        print(element)\n",
        "\n"
      ],
      "metadata": {
        "id": "o9me-2x06gfC",
        "colab": {
          "base_uri": "https://localhost:8080/"
        },
        "outputId": "b9c10421-df89-485f-fbc5-c4804714a7f7"
      },
      "execution_count": null,
      "outputs": [
        {
          "output_type": "stream",
          "name": "stdout",
          "text": [
            "[]\n"
          ]
        }
      ]
    },
    {
      "cell_type": "code",
      "source": [
        "from re import findall\n",
        "from bs4 import BeautifulSoup\n",
        "from urllib.request import urlopen\n",
        "\n",
        "with urlopen('https://www.timeshighereducation.com/world-university-rankings/university-oxford') as response:\n",
        "    soup = BeautifulSoup(response, 'html.parser')\n",
        "    con= soup.find_all(\"div\",\"year-rank-item\")\n",
        "\n",
        "    for element in con:\n",
        "        data = element.find_all(\"span\")\n",
        "        print(\"year  \", data[0], \"rank  \", data[1])\n"
      ],
      "metadata": {
        "id": "NFYu0CeIRfOf"
      },
      "execution_count": null,
      "outputs": []
    }
  ]
}